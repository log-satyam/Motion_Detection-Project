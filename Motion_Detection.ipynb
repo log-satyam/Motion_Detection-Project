{
 "cells": [
  {
   "cell_type": "code",
   "execution_count": 49,
   "id": "fd1629ec",
   "metadata": {},
   "outputs": [],
   "source": [
    "import cv2\n",
    "import numpy as np"
   ]
  },
  {
   "cell_type": "code",
   "execution_count": 50,
   "id": "f0426eeb",
   "metadata": {},
   "outputs": [],
   "source": [
    "cap = cv2.VideoCapture(\"pdtr_2.mp4\")"
   ]
  },
  {
   "cell_type": "code",
   "execution_count": 51,
   "id": "326d537c",
   "metadata": {},
   "outputs": [],
   "source": [
    "ret, frame1 = cap.read()\n",
    "ret, frame2 = cap.read()\n",
    "\n",
    "while cap.isOpened():\n",
    "    diff = cv2.absdiff(frame1,frame2)\n",
    "    gray = cv2.cvtColor(diff,cv2.COLOR_BGR2GRAY)\n",
    "    blur = cv2.GaussianBlur(gray,(5,5), 0)\n",
    "    _,thresh = cv2.threshold(blur,20,255, cv2.THRESH_BINARY)\n",
    "    dilate = cv2.dilate(thresh,None, iterations = 3)\n",
    "    contours, _ = cv2.findContours(dilate,cv2.RETR_TREE,cv2.CHAIN_APPROX_SIMPLE)\n",
    "    \n",
    "    #cv2.drawContours(frame1, contours, -1, (0,0,255), 3)\n",
    "    for contour in contours:\n",
    "        (x,y,w,h) = cv2.boundingRect(contour)\n",
    "        if cv2.contourArea(contour) < 800:\n",
    "            continue\n",
    "        cv2.rectangle(frame1,(x,y),(x+w,y+h),(0,0,255),2)\n",
    "        cv2.putText(frame1,\"Status : {}\".format('Walking'),(10,20),cv2.FONT_HERSHEY_SIMPLEX, 1, (255,0,0), 2)\n",
    "        \n",
    "    resize_frame = cv2.resize(frame1,(700,600))\n",
    "    cv2.imshow(\"Street Walk\",resize_frame)\n",
    "    frame1 = frame2\n",
    "    ret,frame2 = cap.read()\n",
    "    \n",
    "    if cv2.waitKey(100) & 0xff == ord('q'):\n",
    "        break\n",
    "cap.release()\n",
    "cv2.destroyAllWindows()"
   ]
  },
  {
   "cell_type": "code",
   "execution_count": null,
   "id": "e63d03f0",
   "metadata": {},
   "outputs": [],
   "source": []
  }
 ],
 "metadata": {
  "kernelspec": {
   "display_name": "Python 3 (ipykernel)",
   "language": "python",
   "name": "python3"
  },
  "language_info": {
   "codemirror_mode": {
    "name": "ipython",
    "version": 3
   },
   "file_extension": ".py",
   "mimetype": "text/x-python",
   "name": "python",
   "nbconvert_exporter": "python",
   "pygments_lexer": "ipython3",
   "version": "3.11.3"
  }
 },
 "nbformat": 4,
 "nbformat_minor": 5
}
